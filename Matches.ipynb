{
 "cells": [
  {
   "cell_type": "markdown",
   "id": "2ac96cee",
   "metadata": {},
   "source": [
    "W.a.p to findout wheather a file is identical & Matches the content of another file or not.\n"
   ]
  },
  {
   "cell_type": "code",
   "execution_count": 1,
   "id": "5aef55f6",
   "metadata": {},
   "outputs": [
    {
     "name": "stdout",
     "output_type": "stream",
     "text": [
      "Files are identical\n"
     ]
    }
   ],
   "source": [
    "file1=\"copy.txt\"\n",
    "file2=\"this.txt\"\n",
    "with open(file1)as f:\n",
    "    f1=f.read()\n",
    "with open(file2)as f:\n",
    "    f2=f.read() \n",
    "    \n",
    "if f1 == f2:\n",
    "    print(\"Files are identical\")\n",
    "else:\n",
    "    print(\"Files are not identical\")\n",
    "    "
   ]
  },
  {
   "cell_type": "code",
   "execution_count": 2,
   "id": "601ea77b",
   "metadata": {},
   "outputs": [
    {
     "name": "stdout",
     "output_type": "stream",
     "text": [
      "Files are not identical\n"
     ]
    }
   ],
   "source": [
    "file1=\"log.txt\"\n",
    "file2=\"this.txt\"\n",
    "with open(file1)as f:\n",
    "    f1=f.read()\n",
    "with open(file2)as f:\n",
    "    f2=f.read() \n",
    "    \n",
    "if f1 == f2:\n",
    "    print(\"Files are identical\")\n",
    "else:\n",
    "    print(\"Files are not identical\")"
   ]
  },
  {
   "cell_type": "code",
   "execution_count": null,
   "id": "aaf2ff1b",
   "metadata": {},
   "outputs": [],
   "source": []
  }
 ],
 "metadata": {
  "kernelspec": {
   "display_name": "Python 3 (ipykernel)",
   "language": "python",
   "name": "python3"
  },
  "language_info": {
   "codemirror_mode": {
    "name": "ipython",
    "version": 3
   },
   "file_extension": ".py",
   "mimetype": "text/x-python",
   "name": "python",
   "nbconvert_exporter": "python",
   "pygments_lexer": "ipython3",
   "version": "3.9.7"
  }
 },
 "nbformat": 4,
 "nbformat_minor": 5
}
